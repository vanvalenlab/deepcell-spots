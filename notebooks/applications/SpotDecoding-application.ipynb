{
 "cells": [
  {
   "cell_type": "code",
   "execution_count": 1,
   "id": "9aa7ccbd",
   "metadata": {},
   "outputs": [
    {
     "name": "stderr",
     "output_type": "stream",
     "text": [
      "/usr/local/lib/python3.8/dist-packages/keras/optimizer_v2/gradient_descent.py:102: UserWarning: The `lr` argument is deprecated, use `learning_rate` instead.\n",
      "  super(SGD, self).__init__(name, **kwargs)\n"
     ]
    }
   ],
   "source": [
    "import os\n",
    "import numpy as np\n",
    "import pandas as pd\n",
    "import matplotlib.pyplot as plt\n",
    "\n",
    "from tensorflow.keras.utils import get_file\n",
    "\n",
    "from deepcell.utils.plot_utils import create_rgb_image\n",
    "from deepcell.datasets import Dataset\n",
    "from deepcell_spots.applications import SpotDecoding, SpotDetection\n",
    "from deepcell_spots.preprocessing_utils import min_max_normalize\n",
    "from deepcell_spots.postprocessing_utils import max_cp_array_to_point_list_max\n",
    "from deepcell_spots.multiplex import extract_spots_prob_from_coords_maxpool"
   ]
  },
  {
   "cell_type": "code",
   "execution_count": 2,
   "id": "1e5265ff",
   "metadata": {},
   "outputs": [],
   "source": [
    "def load_data(self, path=None):\n",
    "    path = path if path else self.path\n",
    "    \n",
    "    basepath = os.path.expanduser(os.path.join('~', '.keras', 'datasets'))\n",
    "    prefix = path.split(os.path.sep)[:-1]\n",
    "    data_dir = os.path.join(basepath, *prefix) if prefix else basepath\n",
    "    if not os.path.exists(data_dir):\n",
    "        os.makedirs(data_dir)\n",
    "    elif not os.path.isdir(data_dir):\n",
    "        raise IOError('{} exists but is not a directory'.format(data_dir))\n",
    "\n",
    "    path = get_file(path,\n",
    "                    origin=self.url,\n",
    "                    file_hash=self.file_hash)\n",
    "    \n",
    "    data = np.load(path)\n",
    "    spots_image = data['spots_image']\n",
    "    spots_image = np.swapaxes(spots_image, 3, 0)\n",
    "    \n",
    "    return spots_image\n",
    "\n",
    "def load_codebook(self, path=None):\n",
    "    path = path if path else self.path\n",
    "    \n",
    "    basepath = os.path.expanduser(os.path.join('~', '.keras', 'datasets'))\n",
    "    prefix = path.split(os.path.sep)[:-1]\n",
    "    data_dir = os.path.join(basepath, *prefix) if prefix else basepath\n",
    "    if not os.path.exists(data_dir):\n",
    "        os.makedirs(data_dir)\n",
    "    elif not os.path.isdir(data_dir):\n",
    "        raise IOError('{} exists but is not a directory'.format(data_dir))\n",
    "\n",
    "    path = get_file(path,\n",
    "                    origin=self.url,\n",
    "                    file_hash=self.file_hash)\n",
    "    df = pd.read_csv(path, index_col=0)\n",
    "\n",
    "    return df\n",
    "\n",
    "Dataset.load_data = load_data\n",
    "Dataset.load_codebook = load_codebook"
   ]
  },
  {
   "cell_type": "code",
   "execution_count": 3,
   "id": "df273163",
   "metadata": {},
   "outputs": [
    {
     "data": {
      "text/plain": [
       "(20, 500, 500, 1)"
      ]
     },
     "execution_count": 3,
     "metadata": {},
     "output_type": "execute_result"
    }
   ],
   "source": [
    "datafile = Dataset(\n",
    "    path='MERFISH_example.npz',\n",
    "    url='https://deepcell-data.s3.us-west-1.amazonaws.com/spot_detection/multiplex/Moffitt/MERFISH_example.npz',\n",
    "    file_hash='2cd7ce177b503fd0873125784097622b',\n",
    "    metadata={})\n",
    "spots_image = datafile.load_data()\n",
    "spots_image.shape"
   ]
  },
  {
   "cell_type": "markdown",
   "id": "83606f89",
   "metadata": {},
   "source": [
    "## Spot Detection\n",
    "\n",
    "This section can be substituted for any other spot detection method. For simplicity, we will use the `SpotDetection` application to perform spot detection."
   ]
  },
  {
   "cell_type": "code",
   "execution_count": 4,
   "id": "141ae32f",
   "metadata": {},
   "outputs": [
    {
     "name": "stderr",
     "output_type": "stream",
     "text": [
      "2023-03-18 16:15:38.023880: I tensorflow/core/platform/cpu_feature_guard.cc:151] This TensorFlow binary is optimized with oneAPI Deep Neural Network Library (oneDNN) to use the following CPU instructions in performance-critical operations:  AVX2 FMA\n",
      "To enable them in other operations, rebuild TensorFlow with the appropriate compiler flags.\n",
      "2023-03-18 16:15:38.627506: I tensorflow/core/common_runtime/gpu/gpu_device.cc:1525] Created device /job:localhost/replica:0/task:0/device:GPU:0 with 37502 MB memory:  -> device: 0, name: NVIDIA A100-SXM4-40GB, pci bus id: 0000:01:00.0, compute capability: 8.0\n"
     ]
    }
   ],
   "source": [
    "app = SpotDetection()\n",
    "app.postprocessing_fn = None"
   ]
  },
  {
   "cell_type": "code",
   "execution_count": 5,
   "id": "a6b0d975",
   "metadata": {},
   "outputs": [
    {
     "name": "stderr",
     "output_type": "stream",
     "text": [
      "2023-03-18 16:15:44.110670: I tensorflow/stream_executor/cuda/cuda_dnn.cc:368] Loaded cuDNN version 8100\n",
      "2023-03-18 16:15:45.631286: I tensorflow/stream_executor/cuda/cuda_blas.cc:1786] TensorFloat-32 will be used for the matrix multiplication. This will only be logged once.\n"
     ]
    }
   ],
   "source": [
    "pred = app.predict(spots_image, clip=True, threshold=0.5)"
   ]
  },
  {
   "cell_type": "code",
   "execution_count": 6,
   "id": "dd1291f4",
   "metadata": {},
   "outputs": [
    {
     "data": {
      "text/plain": [
       "(1, 500, 500, 20)"
      ]
     },
     "execution_count": 6,
     "metadata": {},
     "output_type": "execute_result"
    }
   ],
   "source": [
    "output_image = pred['classification'][:,...,1:2]\n",
    "output_image = np.swapaxes(output_image, 0, 3)\n",
    "output_image.shape"
   ]
  },
  {
   "cell_type": "code",
   "execution_count": 7,
   "id": "c92a05e8",
   "metadata": {},
   "outputs": [],
   "source": [
    "spots_threshold = 0.9\n",
    "max_proj_images = np.max(output_image[...,40:-40,40:-40,:20], axis=-1)\n",
    "spots_locations = max_cp_array_to_point_list_max(max_proj_images,\n",
    "                                                 threshold=spots_threshold, min_distance=1)"
   ]
  },
  {
   "cell_type": "code",
   "execution_count": 8,
   "id": "ae39bbcb",
   "metadata": {},
   "outputs": [
    {
     "data": {
      "text/plain": [
       "((1205, 20), (1205, 3))"
      ]
     },
     "execution_count": 8,
     "metadata": {},
     "output_type": "execute_result"
    }
   ],
   "source": [
    "maxpool_extra_pixel_num=0\n",
    "spots_intensities = extract_spots_prob_from_coords_maxpool(\n",
    "    output_image[...,40:-40,40:-40,:20], spots_locations, extra_pixel_num=maxpool_extra_pixel_num)\n",
    "spots_intensities_vec = np.concatenate(spots_intensities)\n",
    "spots_locations_vec = np.concatenate([np.concatenate(\n",
    "    [item, [[idx_batch]] * len(item)], axis=1)\n",
    "    for idx_batch, item in enumerate(spots_locations)])\n",
    "\n",
    "spots_intensities_vec.shape, spots_locations_vec.shape"
   ]
  },
  {
   "cell_type": "markdown",
   "id": "1346c339",
   "metadata": {},
   "source": [
    "## Spot Decoding"
   ]
  },
  {
   "cell_type": "code",
   "execution_count": 9,
   "id": "d5153383",
   "metadata": {},
   "outputs": [],
   "source": [
    "codebook = Dataset(\n",
    "    path='codebook.csv',\n",
    "    url='https://deepcell-data.s3.us-west-1.amazonaws.com/spot_detection/multiplex/Moffitt/codebook.csv',\n",
    "    file_hash='70a9a4690c3e516ed6f4b0cfe4911a60',\n",
    "    metadata={})\n",
    "\n",
    "df_barcodes = codebook.load_codebook()\n",
    "rounds = 10\n",
    "channels = 2"
   ]
  },
  {
   "cell_type": "code",
   "execution_count": 10,
   "id": "bfac04ad",
   "metadata": {},
   "outputs": [],
   "source": [
    "dec_app = SpotDecoding(df_barcodes=df_barcodes,\n",
    "                       rounds=rounds,\n",
    "                       channels=channels)"
   ]
  },
  {
   "cell_type": "markdown",
   "id": "55f0d5ae",
   "metadata": {},
   "source": [
    "The `SpotDecoding` application takes a vector of spot intensities with the shape (num. spots, `rounds`*`channels`) as its input. "
   ]
  },
  {
   "cell_type": "code",
   "execution_count": 11,
   "id": "7039fdc1",
   "metadata": {},
   "outputs": [],
   "source": [
    "decoding_result = dec_app.predict(spots_intensities_vec)"
   ]
  },
  {
   "cell_type": "markdown",
   "id": "c9fc0be0",
   "metadata": {},
   "source": [
    "`spots_locations_vec` can be used to populate a DataFrame, which resembles the Polaris output."
   ]
  },
  {
   "cell_type": "code",
   "execution_count": 12,
   "id": "1c93da4a",
   "metadata": {},
   "outputs": [
    {
     "data": {
      "text/html": [
       "<div>\n",
       "<style scoped>\n",
       "    .dataframe tbody tr th:only-of-type {\n",
       "        vertical-align: middle;\n",
       "    }\n",
       "\n",
       "    .dataframe tbody tr th {\n",
       "        vertical-align: top;\n",
       "    }\n",
       "\n",
       "    .dataframe thead th {\n",
       "        text-align: right;\n",
       "    }\n",
       "</style>\n",
       "<table border=\"1\" class=\"dataframe\">\n",
       "  <thead>\n",
       "    <tr style=\"text-align: right;\">\n",
       "      <th></th>\n",
       "      <th>x</th>\n",
       "      <th>y</th>\n",
       "      <th>batch_id</th>\n",
       "      <th>cell_id</th>\n",
       "      <th>probability</th>\n",
       "      <th>predicted_id</th>\n",
       "      <th>predicted_name</th>\n",
       "    </tr>\n",
       "  </thead>\n",
       "  <tbody>\n",
       "    <tr>\n",
       "      <th>0</th>\n",
       "      <td>259</td>\n",
       "      <td>242</td>\n",
       "      <td>0</td>\n",
       "      <td>None</td>\n",
       "      <td>1.000000</td>\n",
       "      <td>5</td>\n",
       "      <td>Txndc5</td>\n",
       "    </tr>\n",
       "    <tr>\n",
       "      <th>1</th>\n",
       "      <td>162</td>\n",
       "      <td>251</td>\n",
       "      <td>0</td>\n",
       "      <td>None</td>\n",
       "      <td>0.999451</td>\n",
       "      <td>54</td>\n",
       "      <td>Stmn1</td>\n",
       "    </tr>\n",
       "    <tr>\n",
       "      <th>2</th>\n",
       "      <td>193</td>\n",
       "      <td>175</td>\n",
       "      <td>0</td>\n",
       "      <td>None</td>\n",
       "      <td>0.999936</td>\n",
       "      <td>4</td>\n",
       "      <td>Cps1</td>\n",
       "    </tr>\n",
       "    <tr>\n",
       "      <th>3</th>\n",
       "      <td>153</td>\n",
       "      <td>50</td>\n",
       "      <td>0</td>\n",
       "      <td>None</td>\n",
       "      <td>1.000000</td>\n",
       "      <td>4</td>\n",
       "      <td>Cps1</td>\n",
       "    </tr>\n",
       "    <tr>\n",
       "      <th>4</th>\n",
       "      <td>77</td>\n",
       "      <td>262</td>\n",
       "      <td>0</td>\n",
       "      <td>None</td>\n",
       "      <td>1.000000</td>\n",
       "      <td>4</td>\n",
       "      <td>Cps1</td>\n",
       "    </tr>\n",
       "    <tr>\n",
       "      <th>...</th>\n",
       "      <td>...</td>\n",
       "      <td>...</td>\n",
       "      <td>...</td>\n",
       "      <td>...</td>\n",
       "      <td>...</td>\n",
       "      <td>...</td>\n",
       "      <td>...</td>\n",
       "    </tr>\n",
       "    <tr>\n",
       "      <th>1200</th>\n",
       "      <td>270</td>\n",
       "      <td>354</td>\n",
       "      <td>0</td>\n",
       "      <td>None</td>\n",
       "      <td>0.831650</td>\n",
       "      <td>5</td>\n",
       "      <td>Txndc5</td>\n",
       "    </tr>\n",
       "    <tr>\n",
       "      <th>1201</th>\n",
       "      <td>137</td>\n",
       "      <td>318</td>\n",
       "      <td>0</td>\n",
       "      <td>None</td>\n",
       "      <td>0.927471</td>\n",
       "      <td>266</td>\n",
       "      <td>Background</td>\n",
       "    </tr>\n",
       "    <tr>\n",
       "      <th>1202</th>\n",
       "      <td>82</td>\n",
       "      <td>174</td>\n",
       "      <td>0</td>\n",
       "      <td>None</td>\n",
       "      <td>0.981118</td>\n",
       "      <td>266</td>\n",
       "      <td>Background</td>\n",
       "    </tr>\n",
       "    <tr>\n",
       "      <th>1203</th>\n",
       "      <td>233</td>\n",
       "      <td>385</td>\n",
       "      <td>0</td>\n",
       "      <td>None</td>\n",
       "      <td>0.949393</td>\n",
       "      <td>266</td>\n",
       "      <td>Background</td>\n",
       "    </tr>\n",
       "    <tr>\n",
       "      <th>1204</th>\n",
       "      <td>214</td>\n",
       "      <td>15</td>\n",
       "      <td>0</td>\n",
       "      <td>None</td>\n",
       "      <td>0.941737</td>\n",
       "      <td>49</td>\n",
       "      <td>Neat1</td>\n",
       "    </tr>\n",
       "  </tbody>\n",
       "</table>\n",
       "<p>1205 rows × 7 columns</p>\n",
       "</div>"
      ],
      "text/plain": [
       "        x    y  batch_id cell_id  probability  predicted_id predicted_name\n",
       "0     259  242         0    None     1.000000             5         Txndc5\n",
       "1     162  251         0    None     0.999451            54          Stmn1\n",
       "2     193  175         0    None     0.999936             4           Cps1\n",
       "3     153   50         0    None     1.000000             4           Cps1\n",
       "4      77  262         0    None     1.000000             4           Cps1\n",
       "...   ...  ...       ...     ...          ...           ...            ...\n",
       "1200  270  354         0    None     0.831650             5         Txndc5\n",
       "1201  137  318         0    None     0.927471           266     Background\n",
       "1202   82  174         0    None     0.981118           266     Background\n",
       "1203  233  385         0    None     0.949393           266     Background\n",
       "1204  214   15         0    None     0.941737            49          Neat1\n",
       "\n",
       "[1205 rows x 7 columns]"
      ]
     },
     "execution_count": 12,
     "metadata": {},
     "output_type": "execute_result"
    }
   ],
   "source": [
    "df = pd.DataFrame()\n",
    "df[['x', 'y', 'batch_id']] = spots_locations_vec.astype(np.int32)\n",
    "df['cell_id'] = None\n",
    "for name, val in decoding_result.items():\n",
    "    df[name] = val\n",
    "    \n",
    "df"
   ]
  },
  {
   "cell_type": "code",
   "execution_count": null,
   "id": "e56492b4",
   "metadata": {},
   "outputs": [],
   "source": []
  }
 ],
 "metadata": {
  "kernelspec": {
   "display_name": "Python 3 (ipykernel)",
   "language": "python",
   "name": "python3"
  },
  "language_info": {
   "codemirror_mode": {
    "name": "ipython",
    "version": 3
   },
   "file_extension": ".py",
   "mimetype": "text/x-python",
   "name": "python",
   "nbconvert_exporter": "python",
   "pygments_lexer": "ipython3",
   "version": "3.8.10"
  }
 },
 "nbformat": 4,
 "nbformat_minor": 5
}
